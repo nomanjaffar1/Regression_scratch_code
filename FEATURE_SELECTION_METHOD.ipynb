{
 "cells": [
  {
   "cell_type": "markdown",
   "id": "076e0060",
   "metadata": {},
   "source": [
    "# Import necessary libraries"
   ]
  },
  {
   "cell_type": "code",
   "execution_count": null,
   "id": "95551c69",
   "metadata": {},
   "outputs": [],
   "source": [
    "import pandas as pd\n",
    "import numpy as np\n",
    "from sklearn.model_selection import train_test_split\n",
    "from sklearn.linear_model import LogisticRegression\n",
    "from sklearn.metrics import accuracy_score, classification_report, roc_curve, auc\n",
    "import matplotlib.pyplot as plt"
   ]
  },
  {
   "cell_type": "code",
   "execution_count": 2,
   "id": "35463862",
   "metadata": {},
   "outputs": [],
   "source": [
    "df = pd.read_excel(\"data.xlsx\")"
   ]
  },
  {
   "cell_type": "markdown",
   "id": "06506b03",
   "metadata": {},
   "source": [
    "# PART 2: DATA WRANGLING, PREPROCESSING AND TRANSFORMATION:"
   ]
  },
  {
   "cell_type": "code",
   "execution_count": 3,
   "id": "7d9cd020",
   "metadata": {},
   "outputs": [
    {
     "data": {
      "text/html": [
       "<div>\n",
       "<style scoped>\n",
       "    .dataframe tbody tr th:only-of-type {\n",
       "        vertical-align: middle;\n",
       "    }\n",
       "\n",
       "    .dataframe tbody tr th {\n",
       "        vertical-align: top;\n",
       "    }\n",
       "\n",
       "    .dataframe thead th {\n",
       "        text-align: right;\n",
       "    }\n",
       "</style>\n",
       "<table border=\"1\" class=\"dataframe\">\n",
       "  <thead>\n",
       "    <tr style=\"text-align: right;\">\n",
       "      <th></th>\n",
       "      <th>Unnamed: 0</th>\n",
       "      <th>sepal depth</th>\n",
       "      <th>sepal diameter</th>\n",
       "      <th>petal depth</th>\n",
       "      <th>petal diameter</th>\n",
       "      <th>sepal length</th>\n",
       "      <th>sepal width</th>\n",
       "      <th>petal length</th>\n",
       "      <th>petal width</th>\n",
       "      <th>target</th>\n",
       "    </tr>\n",
       "  </thead>\n",
       "  <tbody>\n",
       "    <tr>\n",
       "      <th>0</th>\n",
       "      <td>0</td>\n",
       "      <td>NaN</td>\n",
       "      <td>NaN</td>\n",
       "      <td>NaN</td>\n",
       "      <td>NaN</td>\n",
       "      <td>10.2</td>\n",
       "      <td>-7.0</td>\n",
       "      <td>5.6</td>\n",
       "      <td>-0.8</td>\n",
       "      <td>Iris-setosa</td>\n",
       "    </tr>\n",
       "    <tr>\n",
       "      <th>1</th>\n",
       "      <td>1</td>\n",
       "      <td>4.9</td>\n",
       "      <td>3.0</td>\n",
       "      <td>1.4</td>\n",
       "      <td>0.2</td>\n",
       "      <td>9.8</td>\n",
       "      <td>-6.0</td>\n",
       "      <td>5.6</td>\n",
       "      <td>-0.8</td>\n",
       "      <td>Iris-setosa</td>\n",
       "    </tr>\n",
       "    <tr>\n",
       "      <th>2</th>\n",
       "      <td>2</td>\n",
       "      <td>4.7</td>\n",
       "      <td>3.2</td>\n",
       "      <td>NaN</td>\n",
       "      <td>NaN</td>\n",
       "      <td>9.4</td>\n",
       "      <td>-6.4</td>\n",
       "      <td>5.2</td>\n",
       "      <td>-0.8</td>\n",
       "      <td>Iris-setosa</td>\n",
       "    </tr>\n",
       "    <tr>\n",
       "      <th>3</th>\n",
       "      <td>3</td>\n",
       "      <td>4.6</td>\n",
       "      <td>NaN</td>\n",
       "      <td>1.5</td>\n",
       "      <td>NaN</td>\n",
       "      <td>9.2</td>\n",
       "      <td>-6.2</td>\n",
       "      <td>6.0</td>\n",
       "      <td>-0.8</td>\n",
       "      <td>Iris-setosa</td>\n",
       "    </tr>\n",
       "    <tr>\n",
       "      <th>4</th>\n",
       "      <td>4</td>\n",
       "      <td>NaN</td>\n",
       "      <td>3.6</td>\n",
       "      <td>NaN</td>\n",
       "      <td>NaN</td>\n",
       "      <td>10.0</td>\n",
       "      <td>-7.2</td>\n",
       "      <td>5.6</td>\n",
       "      <td>-0.8</td>\n",
       "      <td>Iris-setosa</td>\n",
       "    </tr>\n",
       "    <tr>\n",
       "      <th>...</th>\n",
       "      <td>...</td>\n",
       "      <td>...</td>\n",
       "      <td>...</td>\n",
       "      <td>...</td>\n",
       "      <td>...</td>\n",
       "      <td>...</td>\n",
       "      <td>...</td>\n",
       "      <td>...</td>\n",
       "      <td>...</td>\n",
       "      <td>...</td>\n",
       "    </tr>\n",
       "    <tr>\n",
       "      <th>145</th>\n",
       "      <td>145</td>\n",
       "      <td>6.7</td>\n",
       "      <td>3.0</td>\n",
       "      <td>5.2</td>\n",
       "      <td>2.3</td>\n",
       "      <td>13.4</td>\n",
       "      <td>-6.0</td>\n",
       "      <td>20.8</td>\n",
       "      <td>-9.2</td>\n",
       "      <td>Iris-virginica</td>\n",
       "    </tr>\n",
       "    <tr>\n",
       "      <th>146</th>\n",
       "      <td>146</td>\n",
       "      <td>6.3</td>\n",
       "      <td>2.5</td>\n",
       "      <td>5.0</td>\n",
       "      <td>1.9</td>\n",
       "      <td>12.6</td>\n",
       "      <td>-5.0</td>\n",
       "      <td>20.0</td>\n",
       "      <td>-7.6</td>\n",
       "      <td>Iris-virginica</td>\n",
       "    </tr>\n",
       "    <tr>\n",
       "      <th>147</th>\n",
       "      <td>147</td>\n",
       "      <td>6.5</td>\n",
       "      <td>3.0</td>\n",
       "      <td>5.2</td>\n",
       "      <td>2.0</td>\n",
       "      <td>13.0</td>\n",
       "      <td>-6.0</td>\n",
       "      <td>20.8</td>\n",
       "      <td>-8.0</td>\n",
       "      <td>Iris-virginica</td>\n",
       "    </tr>\n",
       "    <tr>\n",
       "      <th>148</th>\n",
       "      <td>148</td>\n",
       "      <td>6.2</td>\n",
       "      <td>3.4</td>\n",
       "      <td>5.4</td>\n",
       "      <td>2.3</td>\n",
       "      <td>12.4</td>\n",
       "      <td>-6.8</td>\n",
       "      <td>21.6</td>\n",
       "      <td>-9.2</td>\n",
       "      <td>Iris-virginica</td>\n",
       "    </tr>\n",
       "    <tr>\n",
       "      <th>149</th>\n",
       "      <td>149</td>\n",
       "      <td>5.9</td>\n",
       "      <td>3.0</td>\n",
       "      <td>5.1</td>\n",
       "      <td>1.8</td>\n",
       "      <td>11.8</td>\n",
       "      <td>-6.0</td>\n",
       "      <td>20.4</td>\n",
       "      <td>-7.2</td>\n",
       "      <td>Iris-virginica</td>\n",
       "    </tr>\n",
       "  </tbody>\n",
       "</table>\n",
       "<p>150 rows × 10 columns</p>\n",
       "</div>"
      ],
      "text/plain": [
       "     Unnamed: 0  sepal depth  sepal diameter  petal depth  petal diameter  \\\n",
       "0             0          NaN             NaN          NaN             NaN   \n",
       "1             1          4.9             3.0          1.4             0.2   \n",
       "2             2          4.7             3.2          NaN             NaN   \n",
       "3             3          4.6             NaN          1.5             NaN   \n",
       "4             4          NaN             3.6          NaN             NaN   \n",
       "..          ...          ...             ...          ...             ...   \n",
       "145         145          6.7             3.0          5.2             2.3   \n",
       "146         146          6.3             2.5          5.0             1.9   \n",
       "147         147          6.5             3.0          5.2             2.0   \n",
       "148         148          6.2             3.4          5.4             2.3   \n",
       "149         149          5.9             3.0          5.1             1.8   \n",
       "\n",
       "     sepal length  sepal width  petal length  petal width          target  \n",
       "0            10.2         -7.0           5.6         -0.8     Iris-setosa  \n",
       "1             9.8         -6.0           5.6         -0.8     Iris-setosa  \n",
       "2             9.4         -6.4           5.2         -0.8     Iris-setosa  \n",
       "3             9.2         -6.2           6.0         -0.8     Iris-setosa  \n",
       "4            10.0         -7.2           5.6         -0.8     Iris-setosa  \n",
       "..            ...          ...           ...          ...             ...  \n",
       "145          13.4         -6.0          20.8         -9.2  Iris-virginica  \n",
       "146          12.6         -5.0          20.0         -7.6  Iris-virginica  \n",
       "147          13.0         -6.0          20.8         -8.0  Iris-virginica  \n",
       "148          12.4         -6.8          21.6         -9.2  Iris-virginica  \n",
       "149          11.8         -6.0          20.4         -7.2  Iris-virginica  \n",
       "\n",
       "[150 rows x 10 columns]"
      ]
     },
     "execution_count": 3,
     "metadata": {},
     "output_type": "execute_result"
    }
   ],
   "source": [
    "df"
   ]
  },
  {
   "cell_type": "code",
   "execution_count": 4,
   "id": "854489cc",
   "metadata": {},
   "outputs": [],
   "source": [
    "df.drop('Unnamed: 0',axis=1,inplace=True)"
   ]
  },
  {
   "cell_type": "code",
   "execution_count": 5,
   "id": "f4e51cda",
   "metadata": {},
   "outputs": [
    {
     "name": "stdout",
     "output_type": "stream",
     "text": [
      "<class 'pandas.core.frame.DataFrame'>\n",
      "RangeIndex: 150 entries, 0 to 149\n",
      "Data columns (total 9 columns):\n",
      " #   Column          Non-Null Count  Dtype  \n",
      "---  ------          --------------  -----  \n",
      " 0   sepal depth     130 non-null    float64\n",
      " 1   sepal diameter  130 non-null    float64\n",
      " 2   petal depth     130 non-null    float64\n",
      " 3   petal diameter  100 non-null    float64\n",
      " 4   sepal length    150 non-null    float64\n",
      " 5   sepal width     150 non-null    float64\n",
      " 6   petal length    150 non-null    float64\n",
      " 7   petal width     150 non-null    float64\n",
      " 8   target          150 non-null    object \n",
      "dtypes: float64(8), object(1)\n",
      "memory usage: 10.7+ KB\n"
     ]
    }
   ],
   "source": [
    "df.info()"
   ]
  },
  {
   "cell_type": "code",
   "execution_count": 6,
   "id": "dd6daa93",
   "metadata": {},
   "outputs": [
    {
     "name": "stdout",
     "output_type": "stream",
     "text": [
      "data type of each coloumns:    \n",
      "sepal depth   float64\n",
      "sepal diameter   float64\n",
      "petal depth   float64\n",
      "petal diameter   float64\n",
      "sepal length   float64\n",
      "sepal width   float64\n",
      "petal length   float64\n",
      "petal width   float64\n",
      "target   object\n"
     ]
    }
   ],
   "source": [
    "colomns=df.columns\n",
    "print(\"data type of each coloumns:    \")\n",
    "for i in colomns:\n",
    "    print(i,end=\"   \")#,end=\":      \",dtype(df[i]))\n",
    "    print(df[i].dtype)"
   ]
  },
  {
   "cell_type": "markdown",
   "id": "d294fa40",
   "metadata": {},
   "source": [
    "# Data cleaning"
   ]
  },
  {
   "cell_type": "code",
   "execution_count": 7,
   "id": "fac40042",
   "metadata": {},
   "outputs": [
    {
     "data": {
      "text/plain": [
       "sepal depth       20\n",
       "sepal diameter    20\n",
       "petal depth       20\n",
       "petal diameter    50\n",
       "sepal length       0\n",
       "sepal width        0\n",
       "petal length       0\n",
       "petal width        0\n",
       "target             0\n",
       "dtype: int64"
      ]
     },
     "execution_count": 7,
     "metadata": {},
     "output_type": "execute_result"
    }
   ],
   "source": [
    "df.isnull().sum()"
   ]
  },
  {
   "cell_type": "code",
   "execution_count": 8,
   "id": "8f3a3106",
   "metadata": {},
   "outputs": [
    {
     "data": {
      "text/plain": [
       "150"
      ]
     },
     "execution_count": 8,
     "metadata": {},
     "output_type": "execute_result"
    }
   ],
   "source": [
    "len(df['petal diameter'])"
   ]
  },
  {
   "cell_type": "code",
   "execution_count": 9,
   "id": "e33c5a6b",
   "metadata": {},
   "outputs": [
    {
     "data": {
      "text/plain": [
       "count    100.000000\n",
       "mean       1.453000\n",
       "std        0.685117\n",
       "min        0.100000\n",
       "25%        1.100000\n",
       "50%        1.500000\n",
       "75%        2.000000\n",
       "max        2.500000\n",
       "Name: petal diameter, dtype: float64"
      ]
     },
     "execution_count": 9,
     "metadata": {},
     "output_type": "execute_result"
    }
   ],
   "source": [
    "df['petal diameter'].describe()"
   ]
  },
  {
   "cell_type": "code",
   "execution_count": 10,
   "id": "ee824820",
   "metadata": {},
   "outputs": [],
   "source": [
    "df['sepal depth'].fillna(df['sepal depth'].mean(),inplace=True)\n",
    "df['sepal diameter'].fillna(df['sepal diameter'].mean(),inplace=True)\n",
    "df['petal depth'].fillna(df['petal depth'].mean(),inplace=True)\n",
    "df['petal diameter'].fillna(df['petal diameter'].mean(),inplace=True)\n",
    "\n",
    "\n"
   ]
  },
  {
   "cell_type": "code",
   "execution_count": 11,
   "id": "1158a44e",
   "metadata": {},
   "outputs": [
    {
     "data": {
      "image/png": "[encoded data removed]",
      "text/plain": [
       "<Figure size 800x600 with 1 Axes>"
      ]
     },
     "metadata": {},
     "output_type": "display_data"
    },
    {
     "data": {
      "image/png": "[encoded data removed]",
      "text/plain": [
       "<Figure size 800x600 with 1 Axes>"
      ]
     },
     "metadata": {},
     "output_type": "display_data"
    },
    {
     "data": {
      "image/png": "[encoded data removed]",
      "text/plain": [
       "<Figure size 800x600 with 1 Axes>"
      ]
     },
     "metadata": {},
     "output_type": "display_data"
    },
    {
     "data": {
      "image/png": "[encoded data removed]",
      "text/plain": [
       "<Figure size 800x600 with 1 Axes>"
      ]
     },
     "metadata": {},
     "output_type": "display_data"
    },
    {
     "data": {
      "image/png": "[encoded data removed]",
      "text/plain": [
       "<Figure size 800x600 with 1 Axes>"
      ]
     },
     "metadata": {},
     "output_type": "display_data"
    },
    {
     "data": {
      "image/png": "[encoded data removed]",
      "text/plain": [
       "<Figure size 800x600 with 1 Axes>"
      ]
     },
     "metadata": {},
     "output_type": "display_data"
    },
    {
     "data": {
      "image/png": "[encoded data removed]",
      "text/plain": [
       "<Figure size 800x600 with 1 Axes>"
      ]
     },
     "metadata": {},
     "output_type": "display_data"
    },
    {
     "data": {
      "image/png": "[encoded data removed]",
      "text/plain": [
       "<Figure size 800x600 with 1 Axes>"
      ]
     },
     "metadata": {},
     "output_type": "display_data"
    }
   ],
   "source": [
    "for column in df.columns[:-1]:  # Exclude the last column (dependent variable)\n",
    "    plt.figure(figsize=(8, 6))\n",
    "    plt.hist(df[column], bins=10, color='green', alpha=0.7)\n",
    "    plt.title(f'{column} vs Target')\n",
    "    plt.xlabel(column)\n",
    "    plt.ylabel('Target')\n",
    "    plt.show()"
   ]
  },
  {
   "cell_type": "code",
   "execution_count": 12,
   "id": "4fe11203",
   "metadata": {},
   "outputs": [
    {
     "data": {
      "text/plain": [
       "Index(['sepal depth', 'sepal diameter', 'petal depth', 'petal diameter',\n",
       "       'sepal length', 'sepal width', 'petal length', 'petal width'],\n",
       "      dtype='object')"
      ]
     },
     "execution_count": 12,
     "metadata": {},
     "output_type": "execute_result"
    }
   ],
   "source": [
    "tar=df['target']\n",
    "df.drop('target',axis=1,inplace=True)\n",
    "df.columns"
   ]
  },
  {
   "cell_type": "code",
   "execution_count": 13,
   "id": "42c3eb88",
   "metadata": {},
   "outputs": [],
   "source": [
    "def replace_outliers_with_mean(dataframe, columns, iqr_multiplier=1.5):\n",
    "    df = dataframe.copy()\n",
    "\n",
    "    for column_name in columns:\n",
    "        # Calculate the first and third quartiles (Q1 and Q3)\n",
    "        Q1 = df[column_name].quantile(0.25)\n",
    "        Q3 = df[column_name].quantile(0.75)\n",
    "        IQR = Q3 - Q1\n",
    "        upper_bound = Q3 + iqr_multiplier * IQR\n",
    "        lower_bound = Q1 - iqr_multiplier * IQR\n",
    "        df[column_name] = df[column_name].apply(lambda x: df[column_name].mean() if x > upper_bound or x < lower_bound else x)\n",
    "\n",
    "    return df"
   ]
  },
  {
   "cell_type": "code",
   "execution_count": 14,
   "id": "85173463",
   "metadata": {},
   "outputs": [],
   "source": [
    "df=replace_outliers_with_mean(df,df.columns,1.5)"
   ]
  },
  {
   "cell_type": "code",
   "execution_count": 15,
   "id": "be6d8f1b",
   "metadata": {},
   "outputs": [
    {
     "data": {
      "text/plain": [
       "sepal depth       0\n",
       "sepal diameter    0\n",
       "petal depth       0\n",
       "petal diameter    0\n",
       "sepal length      0\n",
       "sepal width       0\n",
       "petal length      0\n",
       "petal width       0\n",
       "target            0\n",
       "dtype: int64"
      ]
     },
     "execution_count": 15,
     "metadata": {},
     "output_type": "execute_result"
    }
   ],
   "source": [
    "df['target']=tar\n",
    "df.isnull().sum()\n"
   ]
  },
  {
   "cell_type": "markdown",
   "id": "c6148e2f",
   "metadata": {},
   "source": [
    "# data transformation:"
   ]
  },
  {
   "cell_type": "code",
   "execution_count": 16,
   "id": "bb8116e4",
   "metadata": {},
   "outputs": [
    {
     "name": "stdout",
     "output_type": "stream",
     "text": [
      "{'Iris-setosa': 0, 'Iris-versicolor': 1, 'Iris-virginica': 2}\n"
     ]
    }
   ],
   "source": [
    "from sklearn.preprocessing import LabelEncoder\n",
    "\n",
    "#simple imputer use for catagarical values\n",
    "label_encoder = LabelEncoder()\n",
    "df['target'] = label_encoder.fit_transform(df['target'])\n",
    "label_mapping = dict(zip(label_encoder.classes_, label_encoder.transform(label_encoder.classes_)))\n",
    "\n",
    "# Print the mapping\n",
    "print(label_mapping)"
   ]
  },
  {
   "cell_type": "code",
   "execution_count": 17,
   "id": "93469654",
   "metadata": {},
   "outputs": [
    {
     "data": {
      "text/plain": [
       "sepal depth        5.901538\n",
       "sepal diameter     2.986231\n",
       "petal depth        4.642462\n",
       "petal diameter     1.589673\n",
       "sepal length      11.686667\n",
       "sepal width       -6.074880\n",
       "petal length      15.034667\n",
       "petal width       -4.794667\n",
       "target             1.000000\n",
       "dtype: float64"
      ]
     },
     "execution_count": 17,
     "metadata": {},
     "output_type": "execute_result"
    }
   ],
   "source": [
    "df.mean()"
   ]
  },
  {
   "cell_type": "code",
   "execution_count": 18,
   "id": "96b4f264",
   "metadata": {},
   "outputs": [
    {
     "data": {
      "text/plain": [
       "array([0, 1, 2])"
      ]
     },
     "execution_count": 18,
     "metadata": {},
     "output_type": "execute_result"
    }
   ],
   "source": [
    "df['target'].unique()"
   ]
  },
  {
   "cell_type": "markdown",
   "id": "b1b2ebc9",
   "metadata": {},
   "source": [
    "# Normalization and Standardization:"
   ]
  },
  {
   "cell_type": "code",
   "execution_count": 19,
   "id": "38fda9ef",
   "metadata": {},
   "outputs": [
    {
     "name": "stdout",
     "output_type": "stream",
     "text": [
      "\n",
      "Datatypes of all columns:\n",
      "sepal depth       float64\n",
      "sepal diameter    float64\n",
      "petal depth       float64\n",
      "petal diameter    float64\n",
      "sepal length      float64\n",
      "sepal width       float64\n",
      "petal length      float64\n",
      "petal width       float64\n",
      "target              int32\n",
      "dtype: object\n"
     ]
    }
   ],
   "source": [
    "column_datatypes = df.dtypes\n",
    "print(\"\\nDatatypes of all columns:\")\n",
    "print(column_datatypes)"
   ]
  },
  {
   "cell_type": "code",
   "execution_count": 20,
   "id": "e7588d6f",
   "metadata": {},
   "outputs": [
    {
     "data": {
      "text/plain": [
       "Index(['sepal depth', 'sepal diameter', 'petal depth', 'petal diameter',\n",
       "       'sepal length', 'sepal width', 'petal length', 'petal width', 'target'],\n",
       "      dtype='object')"
      ]
     },
     "execution_count": 20,
     "metadata": {},
     "output_type": "execute_result"
    }
   ],
   "source": [
    "colo=df.iloc[:,0:8]\n",
    "tr=df.iloc[:,8:9]\n",
    "df.columns"
   ]
  },
  {
   "cell_type": "code",
   "execution_count": 21,
   "id": "84164a1d",
   "metadata": {},
   "outputs": [
    {
     "data": {
      "text/plain": [
       "<Axes: xlabel='0', ylabel='Density'>"
      ]
     },
     "execution_count": 21,
     "metadata": {},
     "output_type": "execute_result"
    },
    {
     "data": {
      "image/png": "[encoded data removed]",
      "text/plain": [
       "<Figure size 640x480 with 1 Axes>"
      ]
     },
     "metadata": {},
     "output_type": "display_data"
    }
   ],
   "source": [
    "import seaborn as sb\n",
    "from sklearn.preprocessing import StandardScaler\n",
    "housing_df_standard_scale=pd.DataFrame(StandardScaler().fit_transform(colo))\n",
    " \n",
    "sb.kdeplot(housing_df_standard_scale[0])\n",
    "sb.kdeplot(housing_df_standard_scale[1])\n",
    "sb.kdeplot(housing_df_standard_scale[2])\n",
    "sb.kdeplot(housing_df_standard_scale[3])\n",
    "\n",
    "sb.kdeplot(housing_df_standard_scale[4])\n",
    "sb.kdeplot(housing_df_standard_scale[5])\n",
    "sb.kdeplot(housing_df_standard_scale[6])\n",
    "sb.kdeplot(housing_df_standard_scale[7])\n"
   ]
  },
  {
   "cell_type": "code",
   "execution_count": 22,
   "id": "4e5d914d",
   "metadata": {},
   "outputs": [
    {
     "data": {
      "text/html": [
       "<div>\n",
       "<style scoped>\n",
       "    .dataframe tbody tr th:only-of-type {\n",
       "        vertical-align: middle;\n",
       "    }\n",
       "\n",
       "    .dataframe tbody tr th {\n",
       "        vertical-align: top;\n",
       "    }\n",
       "\n",
       "    .dataframe thead th {\n",
       "        text-align: right;\n",
       "    }\n",
       "</style>\n",
       "<table border=\"1\" class=\"dataframe\">\n",
       "  <thead>\n",
       "    <tr style=\"text-align: right;\">\n",
       "      <th></th>\n",
       "      <th>0</th>\n",
       "      <th>1</th>\n",
       "      <th>2</th>\n",
       "      <th>3</th>\n",
       "      <th>4</th>\n",
       "      <th>5</th>\n",
       "      <th>6</th>\n",
       "      <th>7</th>\n",
       "    </tr>\n",
       "  </thead>\n",
       "  <tbody>\n",
       "    <tr>\n",
       "      <th>0</th>\n",
       "      <td>1.146890e-15</td>\n",
       "      <td>0.057178</td>\n",
       "      <td>-0.686925</td>\n",
       "      <td>-0.386449</td>\n",
       "      <td>-0.900681</td>\n",
       "      <td>-1.190590</td>\n",
       "      <td>-1.341272</td>\n",
       "      <td>1.312977</td>\n",
       "    </tr>\n",
       "    <tr>\n",
       "      <th>1</th>\n",
       "      <td>-1.293270e+00</td>\n",
       "      <td>0.041104</td>\n",
       "      <td>-0.686925</td>\n",
       "      <td>-0.386449</td>\n",
       "      <td>-1.143017</td>\n",
       "      <td>0.096367</td>\n",
       "      <td>-1.341272</td>\n",
       "      <td>1.312977</td>\n",
       "    </tr>\n",
       "    <tr>\n",
       "      <th>2</th>\n",
       "      <td>-1.551527e+00</td>\n",
       "      <td>0.638145</td>\n",
       "      <td>-0.686925</td>\n",
       "      <td>-0.386449</td>\n",
       "      <td>-1.385353</td>\n",
       "      <td>-0.418415</td>\n",
       "      <td>-1.398138</td>\n",
       "      <td>1.312977</td>\n",
       "    </tr>\n",
       "    <tr>\n",
       "      <th>3</th>\n",
       "      <td>-1.680655e+00</td>\n",
       "      <td>0.057178</td>\n",
       "      <td>-0.686925</td>\n",
       "      <td>-0.386449</td>\n",
       "      <td>-1.506521</td>\n",
       "      <td>-0.161024</td>\n",
       "      <td>-1.284407</td>\n",
       "      <td>1.312977</td>\n",
       "    </tr>\n",
       "    <tr>\n",
       "      <th>4</th>\n",
       "      <td>1.146890e-15</td>\n",
       "      <td>1.832227</td>\n",
       "      <td>-0.686925</td>\n",
       "      <td>-0.386449</td>\n",
       "      <td>-1.021849</td>\n",
       "      <td>-1.447981</td>\n",
       "      <td>-1.341272</td>\n",
       "      <td>1.312977</td>\n",
       "    </tr>\n",
       "    <tr>\n",
       "      <th>...</th>\n",
       "      <td>...</td>\n",
       "      <td>...</td>\n",
       "      <td>...</td>\n",
       "      <td>...</td>\n",
       "      <td>...</td>\n",
       "      <td>...</td>\n",
       "      <td>...</td>\n",
       "      <td>...</td>\n",
       "    </tr>\n",
       "    <tr>\n",
       "      <th>145</th>\n",
       "      <td>1.031040e+00</td>\n",
       "      <td>0.041104</td>\n",
       "      <td>0.726625</td>\n",
       "      <td>2.008475</td>\n",
       "      <td>1.038005</td>\n",
       "      <td>0.096367</td>\n",
       "      <td>0.819624</td>\n",
       "      <td>-1.447956</td>\n",
       "    </tr>\n",
       "    <tr>\n",
       "      <th>146</th>\n",
       "      <td>5.145269e-01</td>\n",
       "      <td>-1.451498</td>\n",
       "      <td>0.465970</td>\n",
       "      <td>0.877460</td>\n",
       "      <td>0.553333</td>\n",
       "      <td>1.383324</td>\n",
       "      <td>0.705893</td>\n",
       "      <td>-0.922064</td>\n",
       "    </tr>\n",
       "    <tr>\n",
       "      <th>147</th>\n",
       "      <td>7.727836e-01</td>\n",
       "      <td>0.041104</td>\n",
       "      <td>0.726625</td>\n",
       "      <td>1.160214</td>\n",
       "      <td>0.795669</td>\n",
       "      <td>0.096367</td>\n",
       "      <td>0.819624</td>\n",
       "      <td>-1.053537</td>\n",
       "    </tr>\n",
       "    <tr>\n",
       "      <th>148</th>\n",
       "      <td>3.853985e-01</td>\n",
       "      <td>1.235186</td>\n",
       "      <td>0.987279</td>\n",
       "      <td>2.008475</td>\n",
       "      <td>0.432165</td>\n",
       "      <td>-0.933198</td>\n",
       "      <td>0.933356</td>\n",
       "      <td>-1.447956</td>\n",
       "    </tr>\n",
       "    <tr>\n",
       "      <th>149</th>\n",
       "      <td>-1.986590e-03</td>\n",
       "      <td>0.041104</td>\n",
       "      <td>0.596298</td>\n",
       "      <td>0.594706</td>\n",
       "      <td>0.068662</td>\n",
       "      <td>0.096367</td>\n",
       "      <td>0.762759</td>\n",
       "      <td>-0.790591</td>\n",
       "    </tr>\n",
       "  </tbody>\n",
       "</table>\n",
       "<p>150 rows × 8 columns</p>\n",
       "</div>"
      ],
      "text/plain": [
       "                0         1         2         3         4         5         6  \\\n",
       "0    1.146890e-15  0.057178 -0.686925 -0.386449 -0.900681 -1.190590 -1.341272   \n",
       "1   -1.293270e+00  0.041104 -0.686925 -0.386449 -1.143017  0.096367 -1.341272   \n",
       "2   -1.551527e+00  0.638145 -0.686925 -0.386449 -1.385353 -0.418415 -1.398138   \n",
       "3   -1.680655e+00  0.057178 -0.686925 -0.386449 -1.506521 -0.161024 -1.284407   \n",
       "4    1.146890e-15  1.832227 -0.686925 -0.386449 -1.021849 -1.447981 -1.341272   \n",
       "..            ...       ...       ...       ...       ...       ...       ...   \n",
       "145  1.031040e+00  0.041104  0.726625  2.008475  1.038005  0.096367  0.819624   \n",
       "146  5.145269e-01 -1.451498  0.465970  0.877460  0.553333  1.383324  0.705893   \n",
       "147  7.727836e-01  0.041104  0.726625  1.160214  0.795669  0.096367  0.819624   \n",
       "148  3.853985e-01  1.235186  0.987279  2.008475  0.432165 -0.933198  0.933356   \n",
       "149 -1.986590e-03  0.041104  0.596298  0.594706  0.068662  0.096367  0.762759   \n",
       "\n",
       "            7  \n",
       "0    1.312977  \n",
       "1    1.312977  \n",
       "2    1.312977  \n",
       "3    1.312977  \n",
       "4    1.312977  \n",
       "..        ...  \n",
       "145 -1.447956  \n",
       "146 -0.922064  \n",
       "147 -1.053537  \n",
       "148 -1.447956  \n",
       "149 -0.790591  \n",
       "\n",
       "[150 rows x 8 columns]"
      ]
     },
     "execution_count": 22,
     "metadata": {},
     "output_type": "execute_result"
    }
   ],
   "source": [
    "housing_df_standard_scale"
   ]
  },
  {
   "cell_type": "code",
   "execution_count": 23,
   "id": "e991b328",
   "metadata": {},
   "outputs": [
    {
     "data": {
      "text/html": [
       "<div>\n",
       "<style scoped>\n",
       "    .dataframe tbody tr th:only-of-type {\n",
       "        vertical-align: middle;\n",
       "    }\n",
       "\n",
       "    .dataframe tbody tr th {\n",
       "        vertical-align: top;\n",
       "    }\n",
       "\n",
       "    .dataframe thead th {\n",
       "        text-align: right;\n",
       "    }\n",
       "</style>\n",
       "<table border=\"1\" class=\"dataframe\">\n",
       "  <thead>\n",
       "    <tr style=\"text-align: right;\">\n",
       "      <th></th>\n",
       "      <th>sepal depth</th>\n",
       "      <th>sepal diameter</th>\n",
       "      <th>petal depth</th>\n",
       "      <th>petal diameter</th>\n",
       "      <th>sepal length</th>\n",
       "      <th>sepal width</th>\n",
       "      <th>petal length</th>\n",
       "      <th>petal width</th>\n",
       "      <th>target</th>\n",
       "    </tr>\n",
       "  </thead>\n",
       "  <tbody>\n",
       "    <tr>\n",
       "      <th>0</th>\n",
       "      <td>1.146890e-15</td>\n",
       "      <td>0.057178</td>\n",
       "      <td>-0.686925</td>\n",
       "      <td>-0.386449</td>\n",
       "      <td>-0.900681</td>\n",
       "      <td>-1.190590</td>\n",
       "      <td>-1.341272</td>\n",
       "      <td>1.312977</td>\n",
       "      <td>0</td>\n",
       "    </tr>\n",
       "    <tr>\n",
       "      <th>1</th>\n",
       "      <td>-1.293270e+00</td>\n",
       "      <td>0.041104</td>\n",
       "      <td>-0.686925</td>\n",
       "      <td>-0.386449</td>\n",
       "      <td>-1.143017</td>\n",
       "      <td>0.096367</td>\n",
       "      <td>-1.341272</td>\n",
       "      <td>1.312977</td>\n",
       "      <td>0</td>\n",
       "    </tr>\n",
       "    <tr>\n",
       "      <th>2</th>\n",
       "      <td>-1.551527e+00</td>\n",
       "      <td>0.638145</td>\n",
       "      <td>-0.686925</td>\n",
       "      <td>-0.386449</td>\n",
       "      <td>-1.385353</td>\n",
       "      <td>-0.418415</td>\n",
       "      <td>-1.398138</td>\n",
       "      <td>1.312977</td>\n",
       "      <td>0</td>\n",
       "    </tr>\n",
       "    <tr>\n",
       "      <th>3</th>\n",
       "      <td>-1.680655e+00</td>\n",
       "      <td>0.057178</td>\n",
       "      <td>-0.686925</td>\n",
       "      <td>-0.386449</td>\n",
       "      <td>-1.506521</td>\n",
       "      <td>-0.161024</td>\n",
       "      <td>-1.284407</td>\n",
       "      <td>1.312977</td>\n",
       "      <td>0</td>\n",
       "    </tr>\n",
       "    <tr>\n",
       "      <th>4</th>\n",
       "      <td>1.146890e-15</td>\n",
       "      <td>1.832227</td>\n",
       "      <td>-0.686925</td>\n",
       "      <td>-0.386449</td>\n",
       "      <td>-1.021849</td>\n",
       "      <td>-1.447981</td>\n",
       "      <td>-1.341272</td>\n",
       "      <td>1.312977</td>\n",
       "      <td>0</td>\n",
       "    </tr>\n",
       "    <tr>\n",
       "      <th>...</th>\n",
       "      <td>...</td>\n",
       "      <td>...</td>\n",
       "      <td>...</td>\n",
       "      <td>...</td>\n",
       "      <td>...</td>\n",
       "      <td>...</td>\n",
       "      <td>...</td>\n",
       "      <td>...</td>\n",
       "      <td>...</td>\n",
       "    </tr>\n",
       "    <tr>\n",
       "      <th>145</th>\n",
       "      <td>1.031040e+00</td>\n",
       "      <td>0.041104</td>\n",
       "      <td>0.726625</td>\n",
       "      <td>2.008475</td>\n",
       "      <td>1.038005</td>\n",
       "      <td>0.096367</td>\n",
       "      <td>0.819624</td>\n",
       "      <td>-1.447956</td>\n",
       "      <td>2</td>\n",
       "    </tr>\n",
       "    <tr>\n",
       "      <th>146</th>\n",
       "      <td>5.145269e-01</td>\n",
       "      <td>-1.451498</td>\n",
       "      <td>0.465970</td>\n",
       "      <td>0.877460</td>\n",
       "      <td>0.553333</td>\n",
       "      <td>1.383324</td>\n",
       "      <td>0.705893</td>\n",
       "      <td>-0.922064</td>\n",
       "      <td>2</td>\n",
       "    </tr>\n",
       "    <tr>\n",
       "      <th>147</th>\n",
       "      <td>7.727836e-01</td>\n",
       "      <td>0.041104</td>\n",
       "      <td>0.726625</td>\n",
       "      <td>1.160214</td>\n",
       "      <td>0.795669</td>\n",
       "      <td>0.096367</td>\n",
       "      <td>0.819624</td>\n",
       "      <td>-1.053537</td>\n",
       "      <td>2</td>\n",
       "    </tr>\n",
       "    <tr>\n",
       "      <th>148</th>\n",
       "      <td>3.853985e-01</td>\n",
       "      <td>1.235186</td>\n",
       "      <td>0.987279</td>\n",
       "      <td>2.008475</td>\n",
       "      <td>0.432165</td>\n",
       "      <td>-0.933198</td>\n",
       "      <td>0.933356</td>\n",
       "      <td>-1.447956</td>\n",
       "      <td>2</td>\n",
       "    </tr>\n",
       "    <tr>\n",
       "      <th>149</th>\n",
       "      <td>-1.986590e-03</td>\n",
       "      <td>0.041104</td>\n",
       "      <td>0.596298</td>\n",
       "      <td>0.594706</td>\n",
       "      <td>0.068662</td>\n",
       "      <td>0.096367</td>\n",
       "      <td>0.762759</td>\n",
       "      <td>-0.790591</td>\n",
       "      <td>2</td>\n",
       "    </tr>\n",
       "  </tbody>\n",
       "</table>\n",
       "<p>150 rows × 9 columns</p>\n",
       "</div>"
      ],
      "text/plain": [
       "      sepal depth  sepal diameter  petal depth  petal diameter  sepal length  \\\n",
       "0    1.146890e-15        0.057178    -0.686925       -0.386449     -0.900681   \n",
       "1   -1.293270e+00        0.041104    -0.686925       -0.386449     -1.143017   \n",
       "2   -1.551527e+00        0.638145    -0.686925       -0.386449     -1.385353   \n",
       "3   -1.680655e+00        0.057178    -0.686925       -0.386449     -1.506521   \n",
       "4    1.146890e-15        1.832227    -0.686925       -0.386449     -1.021849   \n",
       "..            ...             ...          ...             ...           ...   \n",
       "145  1.031040e+00        0.041104     0.726625        2.008475      1.038005   \n",
       "146  5.145269e-01       -1.451498     0.465970        0.877460      0.553333   \n",
       "147  7.727836e-01        0.041104     0.726625        1.160214      0.795669   \n",
       "148  3.853985e-01        1.235186     0.987279        2.008475      0.432165   \n",
       "149 -1.986590e-03        0.041104     0.596298        0.594706      0.068662   \n",
       "\n",
       "     sepal width  petal length  petal width  target  \n",
       "0      -1.190590     -1.341272     1.312977       0  \n",
       "1       0.096367     -1.341272     1.312977       0  \n",
       "2      -0.418415     -1.398138     1.312977       0  \n",
       "3      -0.161024     -1.284407     1.312977       0  \n",
       "4      -1.447981     -1.341272     1.312977       0  \n",
       "..           ...           ...          ...     ...  \n",
       "145     0.096367      0.819624    -1.447956       2  \n",
       "146     1.383324      0.705893    -0.922064       2  \n",
       "147     0.096367      0.819624    -1.053537       2  \n",
       "148    -0.933198      0.933356    -1.447956       2  \n",
       "149     0.096367      0.762759    -0.790591       2  \n",
       "\n",
       "[150 rows x 9 columns]"
      ]
     },
     "execution_count": 23,
     "metadata": {},
     "output_type": "execute_result"
    }
   ],
   "source": [
    "df=housing_df_standard_scale\n",
    "df.rename(columns={0:'sepal depth',1:'sepal diameter',2:'petal depth',3:'petal diameter',4:\n",
    "       'sepal length',5:'sepal width',6:'petal length',7: 'petal width'}, inplace=True)\n",
    "df['target']=tr\n",
    "df"
   ]
  },
  {
   "cell_type": "markdown",
   "id": "fe8e0e2b",
   "metadata": {},
   "source": [
    "# PART 3: FEATURE SELECTION"
   ]
  },
  {
   "cell_type": "markdown",
   "id": "ece839ad",
   "metadata": {},
   "source": [
    "# FILTER: Low variance, Pearson’s Correlation, Mutual information"
   ]
  },
  {
   "cell_type": "code",
   "execution_count": 24,
   "id": "07431cb2",
   "metadata": {},
   "outputs": [
    {
     "data": {
      "text/html": [
       "<div>\n",
       "<style scoped>\n",
       "    .dataframe tbody tr th:only-of-type {\n",
       "        vertical-align: middle;\n",
       "    }\n",
       "\n",
       "    .dataframe tbody tr th {\n",
       "        vertical-align: top;\n",
       "    }\n",
       "\n",
       "    .dataframe thead th {\n",
       "        text-align: right;\n",
       "    }\n",
       "</style>\n",
       "<table border=\"1\" class=\"dataframe\">\n",
       "  <thead>\n",
       "    <tr style=\"text-align: right;\">\n",
       "      <th></th>\n",
       "      <th>sepal depth</th>\n",
       "      <th>sepal diameter</th>\n",
       "      <th>petal depth</th>\n",
       "      <th>petal diameter</th>\n",
       "      <th>sepal length</th>\n",
       "      <th>sepal width</th>\n",
       "      <th>petal length</th>\n",
       "      <th>petal width</th>\n",
       "      <th>target</th>\n",
       "    </tr>\n",
       "  </thead>\n",
       "  <tbody>\n",
       "    <tr>\n",
       "      <th>sepal depth</th>\n",
       "      <td>1.000000</td>\n",
       "      <td>0.026385</td>\n",
       "      <td>0.792221</td>\n",
       "      <td>0.565930</td>\n",
       "      <td>0.938352</td>\n",
       "      <td>0.032663</td>\n",
       "      <td>0.796027</td>\n",
       "      <td>-0.743394</td>\n",
       "      <td>0.723059</td>\n",
       "    </tr>\n",
       "    <tr>\n",
       "      <th>sepal diameter</th>\n",
       "      <td>0.026385</td>\n",
       "      <td>1.000000</td>\n",
       "      <td>0.104212</td>\n",
       "      <td>0.249672</td>\n",
       "      <td>-0.035172</td>\n",
       "      <td>-0.869760</td>\n",
       "      <td>-0.243366</td>\n",
       "      <td>0.180550</td>\n",
       "      <td>-0.253809</td>\n",
       "    </tr>\n",
       "    <tr>\n",
       "      <th>petal depth</th>\n",
       "      <td>0.792221</td>\n",
       "      <td>0.104212</td>\n",
       "      <td>1.000000</td>\n",
       "      <td>0.782687</td>\n",
       "      <td>0.820980</td>\n",
       "      <td>-0.009130</td>\n",
       "      <td>0.781562</td>\n",
       "      <td>-0.757610</td>\n",
       "      <td>0.764364</td>\n",
       "    </tr>\n",
       "    <tr>\n",
       "      <th>petal diameter</th>\n",
       "      <td>0.565930</td>\n",
       "      <td>0.249672</td>\n",
       "      <td>0.782687</td>\n",
       "      <td>1.000000</td>\n",
       "      <td>0.558296</td>\n",
       "      <td>-0.164336</td>\n",
       "      <td>0.558730</td>\n",
       "      <td>-0.663635</td>\n",
       "      <td>0.636317</td>\n",
       "    </tr>\n",
       "    <tr>\n",
       "      <th>sepal length</th>\n",
       "      <td>0.938352</td>\n",
       "      <td>-0.035172</td>\n",
       "      <td>0.820980</td>\n",
       "      <td>0.558296</td>\n",
       "      <td>1.000000</td>\n",
       "      <td>0.113950</td>\n",
       "      <td>0.871754</td>\n",
       "      <td>-0.817954</td>\n",
       "      <td>0.782561</td>\n",
       "    </tr>\n",
       "    <tr>\n",
       "      <th>sepal width</th>\n",
       "      <td>0.032663</td>\n",
       "      <td>-0.869760</td>\n",
       "      <td>-0.009130</td>\n",
       "      <td>-0.164336</td>\n",
       "      <td>0.113950</td>\n",
       "      <td>1.000000</td>\n",
       "      <td>0.391309</td>\n",
       "      <td>-0.325313</td>\n",
       "      <td>0.392199</td>\n",
       "    </tr>\n",
       "    <tr>\n",
       "      <th>petal length</th>\n",
       "      <td>0.796027</td>\n",
       "      <td>-0.243366</td>\n",
       "      <td>0.781562</td>\n",
       "      <td>0.558730</td>\n",
       "      <td>0.871754</td>\n",
       "      <td>0.391309</td>\n",
       "      <td>1.000000</td>\n",
       "      <td>-0.962757</td>\n",
       "      <td>0.949043</td>\n",
       "    </tr>\n",
       "    <tr>\n",
       "      <th>petal width</th>\n",
       "      <td>-0.743394</td>\n",
       "      <td>0.180550</td>\n",
       "      <td>-0.757610</td>\n",
       "      <td>-0.663635</td>\n",
       "      <td>-0.817954</td>\n",
       "      <td>-0.325313</td>\n",
       "      <td>-0.962757</td>\n",
       "      <td>1.000000</td>\n",
       "      <td>-0.956464</td>\n",
       "    </tr>\n",
       "    <tr>\n",
       "      <th>target</th>\n",
       "      <td>0.723059</td>\n",
       "      <td>-0.253809</td>\n",
       "      <td>0.764364</td>\n",
       "      <td>0.636317</td>\n",
       "      <td>0.782561</td>\n",
       "      <td>0.392199</td>\n",
       "      <td>0.949043</td>\n",
       "      <td>-0.956464</td>\n",
       "      <td>1.000000</td>\n",
       "    </tr>\n",
       "  </tbody>\n",
       "</table>\n",
       "</div>"
      ],
      "text/plain": [
       "                sepal depth  sepal diameter  petal depth  petal diameter  \\\n",
       "sepal depth        1.000000        0.026385     0.792221        0.565930   \n",
       "sepal diameter     0.026385        1.000000     0.104212        0.249672   \n",
       "petal depth        0.792221        0.104212     1.000000        0.782687   \n",
       "petal diameter     0.565930        0.249672     0.782687        1.000000   \n",
       "sepal length       0.938352       -0.035172     0.820980        0.558296   \n",
       "sepal width        0.032663       -0.869760    -0.009130       -0.164336   \n",
       "petal length       0.796027       -0.243366     0.781562        0.558730   \n",
       "petal width       -0.743394        0.180550    -0.757610       -0.663635   \n",
       "target             0.723059       -0.253809     0.764364        0.636317   \n",
       "\n",
       "                sepal length  sepal width  petal length  petal width    target  \n",
       "sepal depth         0.938352     0.032663      0.796027    -0.743394  0.723059  \n",
       "sepal diameter     -0.035172    -0.869760     -0.243366     0.180550 -0.253809  \n",
       "petal depth         0.820980    -0.009130      0.781562    -0.757610  0.764364  \n",
       "petal diameter      0.558296    -0.164336      0.558730    -0.663635  0.636317  \n",
       "sepal length        1.000000     0.113950      0.871754    -0.817954  0.782561  \n",
       "sepal width         0.113950     1.000000      0.391309    -0.325313  0.392199  \n",
       "petal length        0.871754     0.391309      1.000000    -0.962757  0.949043  \n",
       "petal width        -0.817954    -0.325313     -0.962757     1.000000 -0.956464  \n",
       "target              0.782561     0.392199      0.949043    -0.956464  1.000000  "
      ]
     },
     "execution_count": 24,
     "metadata": {},
     "output_type": "execute_result"
    }
   ],
   "source": [
    "correlation_matrix = df.corr()\n",
    "\n",
    "correlation_matrix"
   ]
  },
  {
   "cell_type": "code",
   "execution_count": 25,
   "id": "c8e6f7a2",
   "metadata": {},
   "outputs": [
    {
     "name": "stdout",
     "output_type": "stream",
     "text": [
      "(array([0, 0, 1, 2, 3, 4, 4, 5, 6, 6, 7, 8, 8], dtype=int64), array([0, 4, 1, 2, 3, 0, 4, 5, 6, 8, 7, 6, 8], dtype=int64))\n",
      "(array([1, 4, 5, 6, 7, 7, 7, 8], dtype=int64), array([5, 7, 1, 7, 4, 6, 8, 7], dtype=int64))\n",
      "Selected Features: Index(['sepal depth', 'sepal diameter', 'petal depth', 'petal diameter',\n",
      "       'sepal width', 'petal length'],\n",
      "      dtype='object')\n"
     ]
    }
   ],
   "source": [
    "# 0.7 and 0.9   high correlated\n",
    "# 0.5 and 0.7   moderately correlated\n",
    "# sepal length,\n",
    "threshold = 0.91\n",
    "highly_correlated_features = np.where(correlation_matrix > threshold)\n",
    "threshold = -0.8\n",
    "lowely_correlated_features_depend = np.where(correlation_matrix < threshold)\n",
    "print(highly_correlated_features)#(0,4),(6,8)\n",
    "print(lowely_correlated_features_depend)#7\n",
    "\n",
    "selected_feature_names =df.iloc[:,[0,1,2,3,5,6]]\n",
    "\n",
    "# Printing the selected feature names\n",
    "print(\"Selected Features:\", selected_feature_names.columns)\n"
   ]
  },
  {
   "cell_type": "code",
   "execution_count": 26,
   "id": "7e259d3d",
   "metadata": {},
   "outputs": [
    {
     "name": "stdout",
     "output_type": "stream",
     "text": [
      "Accuracy: 1.00\n",
      "Classification Report:\n",
      "              precision    recall  f1-score   support\n",
      "\n",
      "           0       1.00      1.00      1.00        19\n",
      "           1       1.00      1.00      1.00        13\n",
      "           2       1.00      1.00      1.00        13\n",
      "\n",
      "    accuracy                           1.00        45\n",
      "   macro avg       1.00      1.00      1.00        45\n",
      "weighted avg       1.00      1.00      1.00        45\n",
      "\n"
     ]
    }
   ],
   "source": [
    "X = df.iloc[:,[0,1,2,3,5,6]]\n",
    "y = df['target']\n",
    "\n",
    "# Split the data into training and testing sets (70-30 split)\n",
    "X_train, X_test, y_train, y_test = train_test_split(X, y, test_size=0.3, random_state=42)\n",
    "\n",
    "# Instantiate Logistic Regression model\n",
    "model = LogisticRegression(random_state=42)\n",
    "\n",
    "# Train the model\n",
    "model.fit(X_train, y_train)\n",
    "\n",
    "# Make predictions\n",
    "y_pred = model.predict(X_test)\n",
    "\n",
    "# Evaluate the model\n",
    "accuracy = accuracy_score(y_test, y_pred)\n",
    "classification_rep = classification_report(y_test, y_pred)\n",
    "\n",
    "# Print performance metrics\n",
    "print(f\"Accuracy: {accuracy:.2f}\")\n",
    "print(\"Classification Report:\")\n",
    "print(classification_rep)\n",
    "\n"
   ]
  },
  {
   "cell_type": "markdown",
   "id": "9c01f0ec",
   "metadata": {},
   "source": [
    "# WRAPPER: Forward Selection,"
   ]
  },
  {
   "cell_type": "code",
   "execution_count": 27,
   "id": "622aadd5",
   "metadata": {
    "scrolled": true
   },
   "outputs": [
    {
     "data": {
      "text/html": [
       "<div>\n",
       "<style scoped>\n",
       "    .dataframe tbody tr th:only-of-type {\n",
       "        vertical-align: middle;\n",
       "    }\n",
       "\n",
       "    .dataframe tbody tr th {\n",
       "        vertical-align: top;\n",
       "    }\n",
       "\n",
       "    .dataframe thead th {\n",
       "        text-align: right;\n",
       "    }\n",
       "</style>\n",
       "<table border=\"1\" class=\"dataframe\">\n",
       "  <thead>\n",
       "    <tr style=\"text-align: right;\">\n",
       "      <th></th>\n",
       "      <th>sepal depth</th>\n",
       "      <th>sepal diameter</th>\n",
       "      <th>petal depth</th>\n",
       "      <th>petal diameter</th>\n",
       "      <th>sepal length</th>\n",
       "      <th>sepal width</th>\n",
       "      <th>petal length</th>\n",
       "      <th>petal width</th>\n",
       "      <th>target</th>\n",
       "    </tr>\n",
       "  </thead>\n",
       "  <tbody>\n",
       "    <tr>\n",
       "      <th>0</th>\n",
       "      <td>1.146890e-15</td>\n",
       "      <td>0.057178</td>\n",
       "      <td>-0.686925</td>\n",
       "      <td>-0.386449</td>\n",
       "      <td>-0.900681</td>\n",
       "      <td>-1.190590</td>\n",
       "      <td>-1.341272</td>\n",
       "      <td>1.312977</td>\n",
       "      <td>0</td>\n",
       "    </tr>\n",
       "    <tr>\n",
       "      <th>1</th>\n",
       "      <td>-1.293270e+00</td>\n",
       "      <td>0.041104</td>\n",
       "      <td>-0.686925</td>\n",
       "      <td>-0.386449</td>\n",
       "      <td>-1.143017</td>\n",
       "      <td>0.096367</td>\n",
       "      <td>-1.341272</td>\n",
       "      <td>1.312977</td>\n",
       "      <td>0</td>\n",
       "    </tr>\n",
       "    <tr>\n",
       "      <th>2</th>\n",
       "      <td>-1.551527e+00</td>\n",
       "      <td>0.638145</td>\n",
       "      <td>-0.686925</td>\n",
       "      <td>-0.386449</td>\n",
       "      <td>-1.385353</td>\n",
       "      <td>-0.418415</td>\n",
       "      <td>-1.398138</td>\n",
       "      <td>1.312977</td>\n",
       "      <td>0</td>\n",
       "    </tr>\n",
       "    <tr>\n",
       "      <th>3</th>\n",
       "      <td>-1.680655e+00</td>\n",
       "      <td>0.057178</td>\n",
       "      <td>-0.686925</td>\n",
       "      <td>-0.386449</td>\n",
       "      <td>-1.506521</td>\n",
       "      <td>-0.161024</td>\n",
       "      <td>-1.284407</td>\n",
       "      <td>1.312977</td>\n",
       "      <td>0</td>\n",
       "    </tr>\n",
       "    <tr>\n",
       "      <th>4</th>\n",
       "      <td>1.146890e-15</td>\n",
       "      <td>1.832227</td>\n",
       "      <td>-0.686925</td>\n",
       "      <td>-0.386449</td>\n",
       "      <td>-1.021849</td>\n",
       "      <td>-1.447981</td>\n",
       "      <td>-1.341272</td>\n",
       "      <td>1.312977</td>\n",
       "      <td>0</td>\n",
       "    </tr>\n",
       "    <tr>\n",
       "      <th>...</th>\n",
       "      <td>...</td>\n",
       "      <td>...</td>\n",
       "      <td>...</td>\n",
       "      <td>...</td>\n",
       "      <td>...</td>\n",
       "      <td>...</td>\n",
       "      <td>...</td>\n",
       "      <td>...</td>\n",
       "      <td>...</td>\n",
       "    </tr>\n",
       "    <tr>\n",
       "      <th>145</th>\n",
       "      <td>1.031040e+00</td>\n",
       "      <td>0.041104</td>\n",
       "      <td>0.726625</td>\n",
       "      <td>2.008475</td>\n",
       "      <td>1.038005</td>\n",
       "      <td>0.096367</td>\n",
       "      <td>0.819624</td>\n",
       "      <td>-1.447956</td>\n",
       "      <td>2</td>\n",
       "    </tr>\n",
       "    <tr>\n",
       "      <th>146</th>\n",
       "      <td>5.145269e-01</td>\n",
       "      <td>-1.451498</td>\n",
       "      <td>0.465970</td>\n",
       "      <td>0.877460</td>\n",
       "      <td>0.553333</td>\n",
       "      <td>1.383324</td>\n",
       "      <td>0.705893</td>\n",
       "      <td>-0.922064</td>\n",
       "      <td>2</td>\n",
       "    </tr>\n",
       "    <tr>\n",
       "      <th>147</th>\n",
       "      <td>7.727836e-01</td>\n",
       "      <td>0.041104</td>\n",
       "      <td>0.726625</td>\n",
       "      <td>1.160214</td>\n",
       "      <td>0.795669</td>\n",
       "      <td>0.096367</td>\n",
       "      <td>0.819624</td>\n",
       "      <td>-1.053537</td>\n",
       "      <td>2</td>\n",
       "    </tr>\n",
       "    <tr>\n",
       "      <th>148</th>\n",
       "      <td>3.853985e-01</td>\n",
       "      <td>1.235186</td>\n",
       "      <td>0.987279</td>\n",
       "      <td>2.008475</td>\n",
       "      <td>0.432165</td>\n",
       "      <td>-0.933198</td>\n",
       "      <td>0.933356</td>\n",
       "      <td>-1.447956</td>\n",
       "      <td>2</td>\n",
       "    </tr>\n",
       "    <tr>\n",
       "      <th>149</th>\n",
       "      <td>-1.986590e-03</td>\n",
       "      <td>0.041104</td>\n",
       "      <td>0.596298</td>\n",
       "      <td>0.594706</td>\n",
       "      <td>0.068662</td>\n",
       "      <td>0.096367</td>\n",
       "      <td>0.762759</td>\n",
       "      <td>-0.790591</td>\n",
       "      <td>2</td>\n",
       "    </tr>\n",
       "  </tbody>\n",
       "</table>\n",
       "<p>150 rows × 9 columns</p>\n",
       "</div>"
      ],
      "text/plain": [
       "      sepal depth  sepal diameter  petal depth  petal diameter  sepal length  \\\n",
       "0    1.146890e-15        0.057178    -0.686925       -0.386449     -0.900681   \n",
       "1   -1.293270e+00        0.041104    -0.686925       -0.386449     -1.143017   \n",
       "2   -1.551527e+00        0.638145    -0.686925       -0.386449     -1.385353   \n",
       "3   -1.680655e+00        0.057178    -0.686925       -0.386449     -1.506521   \n",
       "4    1.146890e-15        1.832227    -0.686925       -0.386449     -1.021849   \n",
       "..            ...             ...          ...             ...           ...   \n",
       "145  1.031040e+00        0.041104     0.726625        2.008475      1.038005   \n",
       "146  5.145269e-01       -1.451498     0.465970        0.877460      0.553333   \n",
       "147  7.727836e-01        0.041104     0.726625        1.160214      0.795669   \n",
       "148  3.853985e-01        1.235186     0.987279        2.008475      0.432165   \n",
       "149 -1.986590e-03        0.041104     0.596298        0.594706      0.068662   \n",
       "\n",
       "     sepal width  petal length  petal width  target  \n",
       "0      -1.190590     -1.341272     1.312977       0  \n",
       "1       0.096367     -1.341272     1.312977       0  \n",
       "2      -0.418415     -1.398138     1.312977       0  \n",
       "3      -0.161024     -1.284407     1.312977       0  \n",
       "4      -1.447981     -1.341272     1.312977       0  \n",
       "..           ...           ...          ...     ...  \n",
       "145     0.096367      0.819624    -1.447956       2  \n",
       "146     1.383324      0.705893    -0.922064       2  \n",
       "147     0.096367      0.819624    -1.053537       2  \n",
       "148    -0.933198      0.933356    -1.447956       2  \n",
       "149     0.096367      0.762759    -0.790591       2  \n",
       "\n",
       "[150 rows x 9 columns]"
      ]
     },
     "execution_count": 27,
     "metadata": {},
     "output_type": "execute_result"
    }
   ],
   "source": [
    "df"
   ]
  },
  {
   "cell_type": "code",
   "execution_count": 28,
   "id": "802aead5",
   "metadata": {},
   "outputs": [
    {
     "name": "stdout",
     "output_type": "stream",
     "text": [
      "Selected Features: Index(['sepal depth', 'sepal diameter', 'petal depth', 'petal length',\n",
      "       'petal width'],\n",
      "      dtype='object')\n"
     ]
    }
   ],
   "source": [
    "from sklearn.feature_selection import SequentialFeatureSelector\n",
    "from sklearn.ensemble import RandomForestClassifier\n",
    "X = df.drop('target', axis=1)\n",
    "y = df['target']\n",
    "\n",
    "# Replace RandomForestClassifier with your preferred model\n",
    "model = RandomForestClassifier()\n",
    "\n",
    "# Forward Selection\n",
    "forward_selector = SequentialFeatureSelector(model, n_features_to_select=5, direction='forward')\n",
    "X_selected = forward_selector.fit_transform(X, y)\n",
    "\n",
    "# Getting the selected feature names\n",
    "selected_feature_names = X.columns[forward_selector.get_support()]\n",
    "\n",
    "# Printing the selected feature names\n",
    "print(\"Selected Features:\", selected_feature_names)\n"
   ]
  },
  {
   "cell_type": "code",
   "execution_count": 29,
   "id": "64918c69",
   "metadata": {},
   "outputs": [
    {
     "name": "stdout",
     "output_type": "stream",
     "text": [
      "Accuracy: 1.00\n",
      "Classification Report:\n",
      "              precision    recall  f1-score   support\n",
      "\n",
      "           0       1.00      1.00      1.00        19\n",
      "           1       1.00      1.00      1.00        13\n",
      "           2       1.00      1.00      1.00        13\n",
      "\n",
      "    accuracy                           1.00        45\n",
      "   macro avg       1.00      1.00      1.00        45\n",
      "weighted avg       1.00      1.00      1.00        45\n",
      "\n"
     ]
    }
   ],
   "source": [
    "from sklearn.metrics import accuracy_score, classification_report\n",
    "X = df[selected_feature_names]\n",
    "y = df['target']\n",
    "# Split the data into training and testing sets (70-30 split)\n",
    "X_train, X_test, y_train, y_test = train_test_split(X, y, test_size=0.3, random_state=42)\n",
    "# Instantiate Logistic Regression model\n",
    "model = LogisticRegression(random_state=42)\n",
    "\n",
    "# Train the model\n",
    "model.fit(X_train, y_train)\n",
    "\n",
    "# Make predictions\n",
    "y_pred = model.predict(X_test)\n",
    "\n",
    "# Evaluate the model\n",
    "accuracy = accuracy_score(y_test, y_pred)\n",
    "classification_rep = classification_report(y_test, y_pred)\n",
    "\n",
    "# Print performance metrics\n",
    "print(f\"Accuracy: {accuracy:.2f}\")\n",
    "print(\"Classification Report:\")\n",
    "print(classification_rep)"
   ]
  },
  {
   "cell_type": "markdown",
   "id": "0e4d1377",
   "metadata": {},
   "source": [
    "# WRAPPER: Backward Selection,"
   ]
  },
  {
   "cell_type": "code",
   "execution_count": 30,
   "id": "2cea889b",
   "metadata": {},
   "outputs": [],
   "source": [
    "X = df.drop('target', axis=1)\n",
    "y = df['target']"
   ]
  },
  {
   "cell_type": "code",
   "execution_count": 31,
   "id": "8dd59c8a",
   "metadata": {},
   "outputs": [],
   "source": [
    "# classification problem    \n",
    "from mlxtend.feature_selection import SequentialFeatureSelector\n",
    "from sklearn.neighbors import KNeighborsClassifier\n",
    "Knn = KNeighborsClassifier(n_neighbors=4)"
   ]
  },
  {
   "cell_type": "code",
   "execution_count": 32,
   "id": "7bc8f0ce",
   "metadata": {},
   "outputs": [],
   "source": [
    "# # forward method\n",
    "# # it select starting 1 by 1 of all feature,then pair of first with all,the second ,---,the three ....... \n",
    "# sfs=SequentialFeatureSelector(Knn,\n",
    "#                              k_features=5, # Specify the number of features to select\n",
    "#                              forward=True,\n",
    "#                              floating=False,\n",
    "#                              scoring='accuracy',\n",
    "#                              cv=0,\n",
    "#                              n_jobs=-1)"
   ]
  },
  {
   "cell_type": "code",
   "execution_count": 33,
   "id": "977f1774",
   "metadata": {},
   "outputs": [],
   "source": [
    "#  backward method\n",
    "# it select starting all feature,then skip one ,and ..... \n",
    "sfs=SequentialFeatureSelector(Knn,\n",
    "                             k_features=5, # Specify the number of features to select\n",
    "                             forward=False,\n",
    "                             floating=False,#if true ,then they working like bi_deirection\n",
    "                             scoring='accuracy',\n",
    "                             cv=0,\n",
    "                             n_jobs=-1)"
   ]
  },
  {
   "cell_type": "code",
   "execution_count": 34,
   "id": "7043c717",
   "metadata": {},
   "outputs": [
    {
     "name": "stderr",
     "output_type": "stream",
     "text": [
      "C:\\New folder\\lib\\site-packages\\numpy\\core\\_methods.py:265: RuntimeWarning: Degrees of freedom <= 0 for slice\n",
      "  ret = _var(a, axis=axis, dtype=dtype, out=out, ddof=ddof,\n",
      "C:\\New folder\\lib\\site-packages\\numpy\\core\\_methods.py:257: RuntimeWarning: invalid value encountered in double_scalars\n",
      "  ret = ret.dtype.type(ret / rcount)\n"
     ]
    },
    {
     "data": {
      "text/html": [
       "<div>\n",
       "<style scoped>\n",
       "    .dataframe tbody tr th:only-of-type {\n",
       "        vertical-align: middle;\n",
       "    }\n",
       "\n",
       "    .dataframe tbody tr th {\n",
       "        vertical-align: top;\n",
       "    }\n",
       "\n",
       "    .dataframe thead th {\n",
       "        text-align: right;\n",
       "    }\n",
       "</style>\n",
       "<table border=\"1\" class=\"dataframe\">\n",
       "  <thead>\n",
       "    <tr style=\"text-align: right;\">\n",
       "      <th></th>\n",
       "      <th>feature_idx</th>\n",
       "      <th>cv_scores</th>\n",
       "      <th>avg_score</th>\n",
       "      <th>feature_names</th>\n",
       "      <th>ci_bound</th>\n",
       "      <th>std_dev</th>\n",
       "      <th>std_err</th>\n",
       "    </tr>\n",
       "  </thead>\n",
       "  <tbody>\n",
       "    <tr>\n",
       "      <th>8</th>\n",
       "      <td>(0, 1, 2, 3, 4, 5, 6, 7)</td>\n",
       "      <td>[0.9533333333333334]</td>\n",
       "      <td>0.953333</td>\n",
       "      <td>(sepal depth, sepal diameter, petal depth, pet...</td>\n",
       "      <td>NaN</td>\n",
       "      <td>0.0</td>\n",
       "      <td>NaN</td>\n",
       "    </tr>\n",
       "    <tr>\n",
       "      <th>7</th>\n",
       "      <td>(0, 1, 2, 4, 5, 6, 7)</td>\n",
       "      <td>[0.9733333333333334]</td>\n",
       "      <td>0.973333</td>\n",
       "      <td>(sepal depth, sepal diameter, petal depth, sep...</td>\n",
       "      <td>NaN</td>\n",
       "      <td>0.0</td>\n",
       "      <td>NaN</td>\n",
       "    </tr>\n",
       "    <tr>\n",
       "      <th>6</th>\n",
       "      <td>(0, 1, 2, 4, 6, 7)</td>\n",
       "      <td>[0.98]</td>\n",
       "      <td>0.98</td>\n",
       "      <td>(sepal depth, sepal diameter, petal depth, sep...</td>\n",
       "      <td>NaN</td>\n",
       "      <td>0.0</td>\n",
       "      <td>NaN</td>\n",
       "    </tr>\n",
       "    <tr>\n",
       "      <th>5</th>\n",
       "      <td>(0, 1, 2, 4, 7)</td>\n",
       "      <td>[0.98]</td>\n",
       "      <td>0.98</td>\n",
       "      <td>(sepal depth, sepal diameter, petal depth, sep...</td>\n",
       "      <td>NaN</td>\n",
       "      <td>0.0</td>\n",
       "      <td>NaN</td>\n",
       "    </tr>\n",
       "  </tbody>\n",
       "</table>\n",
       "</div>"
      ],
      "text/plain": [
       "                feature_idx             cv_scores avg_score  \\\n",
       "8  (0, 1, 2, 3, 4, 5, 6, 7)  [0.9533333333333334]  0.953333   \n",
       "7     (0, 1, 2, 4, 5, 6, 7)  [0.9733333333333334]  0.973333   \n",
       "6        (0, 1, 2, 4, 6, 7)                [0.98]      0.98   \n",
       "5           (0, 1, 2, 4, 7)                [0.98]      0.98   \n",
       "\n",
       "                                       feature_names ci_bound std_dev std_err  \n",
       "8  (sepal depth, sepal diameter, petal depth, pet...      NaN     0.0     NaN  \n",
       "7  (sepal depth, sepal diameter, petal depth, sep...      NaN     0.0     NaN  \n",
       "6  (sepal depth, sepal diameter, petal depth, sep...      NaN     0.0     NaN  \n",
       "5  (sepal depth, sepal diameter, petal depth, sep...      NaN     0.0     NaN  "
      ]
     },
     "execution_count": 34,
     "metadata": {},
     "output_type": "execute_result"
    }
   ],
   "source": [
    "sfs.fit(X,y)\n",
    "selected_feature_names = sfs.k_feature_names_\n",
    "# selected_feature_names\n",
    "pd.DataFrame.from_dict(sfs.get_metric_dict()).T"
   ]
  },
  {
   "cell_type": "code",
   "execution_count": 35,
   "id": "1662ade6",
   "metadata": {},
   "outputs": [
    {
     "name": "stdout",
     "output_type": "stream",
     "text": [
      "Accuracy: 1.00\n",
      "Classification Report:\n",
      "              precision    recall  f1-score   support\n",
      "\n",
      "           0       1.00      1.00      1.00        19\n",
      "           1       1.00      1.00      1.00        13\n",
      "           2       1.00      1.00      1.00        13\n",
      "\n",
      "    accuracy                           1.00        45\n",
      "   macro avg       1.00      1.00      1.00        45\n",
      "weighted avg       1.00      1.00      1.00        45\n",
      "\n"
     ]
    }
   ],
   "source": [
    "# Import necessary libraries\n",
    "from sklearn.model_selection import train_test_split\n",
    "from sklearn.linear_model import LogisticRegression\n",
    "from sklearn.metrics import accuracy_score, classification_report, roc_curve, auc\n",
    "import matplotlib.pyplot as plt\n",
    "\n",
    "selected_feature_names = list(selected_feature_names)#feature in tuple so convert\n",
    "X = df[selected_feature_names]\n",
    "y = df['target']\n",
    "\n",
    "# Split the data into training and testing sets (70-30 split)\n",
    "X_train, X_test, y_train, y_test = train_test_split(X, y, test_size=0.3, random_state=42)\n",
    "\n",
    "# Instantiate Logistic Regression model\n",
    "model = LogisticRegression(random_state=42)\n",
    "\n",
    "# Train the model\n",
    "model.fit(X_train, y_train)\n",
    "\n",
    "# Make predictions\n",
    "y_pred = model.predict(X_test)\n",
    "\n",
    "# Evaluate the model\n",
    "accuracy = accuracy_score(y_test, y_pred)\n",
    "classification_rep = classification_report(y_test, y_pred)\n",
    "\n",
    "# Print performance metrics\n",
    "print(f\"Accuracy: {accuracy:.2f}\")\n",
    "print(\"Classification Report:\")\n",
    "print(classification_rep)"
   ]
  },
  {
   "cell_type": "markdown",
   "id": "8523f478",
   "metadata": {},
   "source": [
    "# EMBEDDED: Variance Inflation Factor"
   ]
  },
  {
   "cell_type": "code",
   "execution_count": 36,
   "id": "9cb89636",
   "metadata": {},
   "outputs": [],
   "source": [
    "from sklearn.feature_selection import RFE#recursive feature elamination\n",
    "from sklearn.feature_selection import RFECV#recursive feature elamination with cross validation\n",
    "from sklearn.linear_model import LinearRegression"
   ]
  },
  {
   "cell_type": "code",
   "execution_count": 37,
   "id": "8720dfba",
   "metadata": {},
   "outputs": [],
   "source": [
    "lin_reg=LinearRegression()\n",
    "rfe_mod=RFE(lin_reg)"
   ]
  },
  {
   "cell_type": "code",
   "execution_count": 38,
   "id": "d57b971e",
   "metadata": {},
   "outputs": [
    {
     "name": "stdout",
     "output_type": "stream",
     "text": [
      "Accuracy: 1.00\n",
      "Classification Report:\n",
      "              precision    recall  f1-score   support\n",
      "\n",
      "           0       1.00      1.00      1.00        19\n",
      "           1       1.00      1.00      1.00        13\n",
      "           2       1.00      1.00      1.00        13\n",
      "\n",
      "    accuracy                           1.00        45\n",
      "   macro avg       1.00      1.00      1.00        45\n",
      "weighted avg       1.00      1.00      1.00        45\n",
      "\n"
     ]
    }
   ],
   "source": [
    "X = df[selected_feature_names]\n",
    "y = df['target']\n",
    "\n",
    "# Split the data into training and testing sets (70-30 split)\n",
    "X_train, X_test, y_train, y_test = train_test_split(X, y, test_size=0.3, random_state=42)\n",
    "\n",
    "# Instantiate Logistic Regression model\n",
    "model = LogisticRegression(random_state=42)\n",
    "\n",
    "# Train the model\n",
    "model.fit(X_train, y_train)\n",
    "\n",
    "# Make predictions\n",
    "y_pred = model.predict(X_test)\n",
    "\n",
    "# Evaluate the model\n",
    "accuracy = accuracy_score(y_test, y_pred)\n",
    "classification_rep = classification_report(y_test, y_pred)\n",
    "\n",
    "# Print performance metrics\n",
    "print(f\"Accuracy: {accuracy:.2f}\")\n",
    "print(\"Classification Report:\")\n",
    "print(classification_rep)"
   ]
  },
  {
   "cell_type": "code",
   "execution_count": null,
   "id": "c6748746",
   "metadata": {},
   "outputs": [],
   "source": []
  },
  {
   "cell_type": "code",
   "execution_count": null,
   "id": "fe2ec6fc",
   "metadata": {},
   "outputs": [],
   "source": []
  }
 ],
 "metadata": {
  "kernelspec": {
   "display_name": "Python 3 (ipykernel)",
   "language": "python",
   "name": "python3"
  },
  "language_info": {
   "codemirror_mode": {
    "name": "ipython",
    "version": 3
   },
   "file_extension": ".py",
   "mimetype": "text/x-python",
   "name": "python",
   "nbconvert_exporter": "python",
   "pygments_lexer": "ipython3",
   "version": "3.10.9"
  }
 },
 "nbformat": 4,
 "nbformat_minor": 5
}

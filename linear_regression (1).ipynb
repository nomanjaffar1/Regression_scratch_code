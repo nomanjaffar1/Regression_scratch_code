{
 "cells": [
  {
   "cell_type": "markdown",
   "id": "2692a515",
   "metadata": {},
   "source": [
    "# SCRATCH CODE OF LINEAR REGREASION"
   ]
  },
  {
   "cell_type": "code",
   "execution_count": null,
   "id": "7ee0a426",
   "metadata": {},
   "outputs": [],
   "source": [
    "import numpy as np\n",
    "import pandas as pd\n",
    "import matplotlib.pyplot as plt\n",
    "\n",
    "import copy\n",
    "import math\n",
    "%matplotlib inline"
   ]
  },
  {
   "cell_type": "code",
   "execution_count": 20,
   "id": "b5bda144",
   "metadata": {},
   "outputs": [],
   "source": [
    "data = pd.read_csv('ex1data1.txt')"
   ]
  },
  {
   "cell_type": "code",
   "execution_count": 21,
   "id": "f43eddd2",
   "metadata": {},
   "outputs": [],
   "source": [
    "data.rename(columns={6.110: 'Population of City',17.592:'Profit'}, inplace=True)"
   ]
  },
  {
   "cell_type": "code",
   "execution_count": 22,
   "id": "626bba0f",
   "metadata": {},
   "outputs": [
    {
     "data": {
      "text/html": [
       "<div>\n",
       "<style scoped>\n",
       "    .dataframe tbody tr th:only-of-type {\n",
       "        vertical-align: middle;\n",
       "    }\n",
       "\n",
       "    .dataframe tbody tr th {\n",
       "        vertical-align: top;\n",
       "    }\n",
       "\n",
       "    .dataframe thead th {\n",
       "        text-align: right;\n",
       "    }\n",
       "</style>\n",
       "<table border=\"1\" class=\"dataframe\">\n",
       "  <thead>\n",
       "    <tr style=\"text-align: right;\">\n",
       "      <th></th>\n",
       "      <th>6.1101</th>\n",
       "      <th>17.592</th>\n",
       "    </tr>\n",
       "  </thead>\n",
       "  <tbody>\n",
       "    <tr>\n",
       "      <th>0</th>\n",
       "      <td>5.5277</td>\n",
       "      <td>9.1302</td>\n",
       "    </tr>\n",
       "    <tr>\n",
       "      <th>1</th>\n",
       "      <td>8.5186</td>\n",
       "      <td>13.6620</td>\n",
       "    </tr>\n",
       "    <tr>\n",
       "      <th>2</th>\n",
       "      <td>7.0032</td>\n",
       "      <td>11.8540</td>\n",
       "    </tr>\n",
       "    <tr>\n",
       "      <th>3</th>\n",
       "      <td>5.8598</td>\n",
       "      <td>6.8233</td>\n",
       "    </tr>\n",
       "    <tr>\n",
       "      <th>4</th>\n",
       "      <td>8.3829</td>\n",
       "      <td>11.8860</td>\n",
       "    </tr>\n",
       "  </tbody>\n",
       "</table>\n",
       "</div>"
      ],
      "text/plain": [
       "   6.1101   17.592\n",
       "0  5.5277   9.1302\n",
       "1  8.5186  13.6620\n",
       "2  7.0032  11.8540\n",
       "3  5.8598   6.8233\n",
       "4  8.3829  11.8860"
      ]
     },
     "execution_count": 22,
     "metadata": {},
     "output_type": "execute_result"
    }
   ],
   "source": [
    "data.head()"
   ]
  },
  {
   "cell_type": "code",
   "execution_count": null,
   "id": "6b4393af",
   "metadata": {},
   "outputs": [],
   "source": [
    "data.isnull().sum().sum()"
   ]
  },
  {
   "cell_type": "code",
   "execution_count": 23,
   "id": "738ba913",
   "metadata": {},
   "outputs": [],
   "source": [
    "# load the dataset\n",
    "x_train=data.iloc[:,[0]]\n",
    "y_train =data.iloc[:,[1]]"
   ]
  },
  {
   "cell_type": "code",
   "execution_count": 24,
   "id": "a1dd0a28",
   "metadata": {},
   "outputs": [
    {
     "name": "stdout",
     "output_type": "stream",
     "text": [
      "Type of x_train: <class 'pandas.core.frame.DataFrame'>\n",
      "First five elements of x_train are:\n",
      "    6.1101\n",
      "0  5.5277\n",
      "1  8.5186\n",
      "2  7.0032\n",
      "3  5.8598\n",
      "4  8.3829\n"
     ]
    }
   ],
   "source": [
    "# print x_train\n",
    "print(\"Type of x_train:\",type(x_train))\n",
    "print(\"First five elements of x_train are:\\n\", x_train[:5]) "
   ]
  },
  {
   "cell_type": "code",
   "execution_count": 25,
   "id": "9027ef55",
   "metadata": {},
   "outputs": [
    {
     "name": "stdout",
     "output_type": "stream",
     "text": [
      "Type of y_train: <class 'pandas.core.frame.DataFrame'>\n",
      "First five elements of y_train are:\n",
      "     17.592\n",
      "0   9.1302\n",
      "1  13.6620\n",
      "2  11.8540\n",
      "3   6.8233\n",
      "4  11.8860\n"
     ]
    }
   ],
   "source": [
    "# print y_train\n",
    "print(\"Type of y_train:\",type(y_train))\n",
    "print(\"First five elements of y_train are:\\n\", y_train[:5]) "
   ]
  },
  {
   "cell_type": "code",
   "execution_count": 26,
   "id": "ed6c5e52",
   "metadata": {},
   "outputs": [
    {
     "name": "stdout",
     "output_type": "stream",
     "text": [
      "6.1101    7.0032\n",
      "Name: 2, dtype: float64\n"
     ]
    }
   ],
   "source": [
    "x_train_first_4_rows = x_train.iloc[2]\n",
    "y_train_first_4_rows = y_train.iloc[0:4]\n",
    "print(x_train_first_4_rows)"
   ]
  },
  {
   "cell_type": "code",
   "execution_count": 27,
   "id": "dde5e417",
   "metadata": {},
   "outputs": [
    {
     "name": "stdout",
     "output_type": "stream",
     "text": [
      "The shape of x_train is: (96, 1)\n",
      "The shape of y_train is:  (96, 1)\n",
      "Number of training examples (m): 96\n"
     ]
    }
   ],
   "source": [
    "print ('The shape of x_train is:', x_train.shape)\n",
    "print ('The shape of y_train is: ', y_train.shape)\n",
    "print ('Number of training examples (m):', len(x_train))"
   ]
  },
  {
   "cell_type": "code",
   "execution_count": 28,
   "id": "26dcf585",
   "metadata": {},
   "outputs": [
    {
     "data": {
      "image/png": "[encoded data removed]",
      "text/plain": [
       "<Figure size 640x480 with 1 Axes>"
      ]
     },
     "metadata": {},
     "output_type": "display_data"
    }
   ],
   "source": [
    "# Create a scatter plot of the data. To change the markers to red \"x\",\n",
    "# we used the 'marker' and 'c' parameters\n",
    "plt.scatter(x_train, y_train, marker='x', c='r') \n",
    "\n",
    "# Set the title\n",
    "plt.title(\"Profits vs. Population per city\")\n",
    "# Set the y-axis label\n",
    "plt.ylabel('Profit')\n",
    "# Set the x-axis label\n",
    "plt.xlabel('Population of City')\n",
    "plt.show()"
   ]
  },
  {
   "cell_type": "code",
   "execution_count": 29,
   "id": "da6df869",
   "metadata": {},
   "outputs": [],
   "source": [
    "def funct(x,y,size):\n",
    "    sum_pro_xy=0\n",
    "    sum_x=0\n",
    "    sum_y=0\n",
    "    sum_squre_x=0\n",
    "    for i in range(size):\n",
    "        s=int(x.iloc[i])\n",
    "        v=int(y.iloc[i])\n",
    "        sum_pro_xy+=s*v\n",
    "        sum_x+=s\n",
    "        sum_y+=v\n",
    "        sum_squre_x+=s**2\n",
    "            \n",
    "   \n",
    "   \n",
    "    \n",
    "    b=(size*sum_pro_xy-sum_x*sum_y)/(size*sum_squre_x-sum_x**2)\n",
    "    a=(sum_squre_x*sum_y- sum_y*sum_pro_xy)/(size*sum_squre_x-sum_x**2)\n",
    "\n",
    "    return a,b  \n",
    "         \n",
    "    "
   ]
  },
  {
   "cell_type": "code",
   "execution_count": 30,
   "id": "83bbad62",
   "metadata": {},
   "outputs": [],
   "source": [
    "length=len(x_train)\n",
    "a,b=funct(x_train,y_train,length)"
   ]
  },
  {
   "cell_type": "code",
   "execution_count": 32,
   "id": "3c4f46c2",
   "metadata": {},
   "outputs": [
    {
     "name": "stdout",
     "output_type": "stream",
     "text": [
      "the intercept is   a=  5.712528812660633\n",
      "the slope of line is b=  1.2096457055327672\n"
     ]
    }
   ],
   "source": [
    "print(\"the intercept is   a= \",a)\n",
    "print(\"the slope of line is b= \",b)"
   ]
  },
  {
   "cell_type": "code",
   "execution_count": 33,
   "id": "36a76daf",
   "metadata": {},
   "outputs": [
    {
     "name": "stdout",
     "output_type": "stream",
     "text": [
      "the cofficient of detrmination is :  r^2=  0.06297301374349393\n"
     ]
    }
   ],
   "source": [
    "SSE=0\n",
    "SSR=0\n",
    "ME=float(x_train.mean())\n",
    "for i in range(length):\n",
    "        x=int(x_train.iloc[i])\n",
    "        y=int(y_train.iloc[i])\n",
    "        y_pre=a+b*x\n",
    "        SSE+=(y-y_pre)**2\n",
    "        SSR+=(y_pre-ME)\n",
    "# SSE=SSE/length\n",
    "SSI=SSR+SSE\n",
    "\n",
    "print(\"the cofficient of detrmination is :  r^2= \",SSR/SSI)"
   ]
  },
  {
   "cell_type": "code",
   "execution_count": null,
   "id": "3951402c",
   "metadata": {},
   "outputs": [],
   "source": []
  }
 ],
 "metadata": {
  "kernelspec": {
   "display_name": "Python 3 (ipykernel)",
   "language": "python",
   "name": "python3"
  },
  "language_info": {
   "codemirror_mode": {
    "name": "ipython",
    "version": 3
   },
   "file_extension": ".py",
   "mimetype": "text/x-python",
   "name": "python",
   "nbconvert_exporter": "python",
   "pygments_lexer": "ipython3",
   "version": "3.10.9"
  }
 },
 "nbformat": 4,
 "nbformat_minor": 5
}
